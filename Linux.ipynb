{
  "nbformat": 4,
  "nbformat_minor": 0,
  "metadata": {
    "colab": {
      "name": "Linux ",
      "provenance": [],
      "collapsed_sections": [],
      "authorship_tag": "ABX9TyNKxCUSvBH8Oo6NwsYEipdn",
      "include_colab_link": true
    },
    "kernelspec": {
      "name": "python3",
      "display_name": "Python 3"
    },
    "language_info": {
      "name": "python"
    }
  },
  "cells": [
    {
      "cell_type": "markdown",
      "metadata": {
        "id": "view-in-github",
        "colab_type": "text"
      },
      "source": [
        "<a href=\"https://colab.research.google.com/github/xtbtds/Road-to-Data-Science/blob/main/Linux.ipynb\" target=\"_parent\"><img src=\"https://colab.research.google.com/assets/colab-badge.svg\" alt=\"Open In Colab\"/></a>"
      ]
    },
    {
      "cell_type": "markdown",
      "source": [
        "#Linux Crash Course\n",
        "mkdir -p Linux/Dir1/Dir2  \n",
        "file ReadMe.md, file image.png  \n",
        "rm -i file1.txt file2.txt  \n",
        "rm -rf Test  - - - - - - - -  remove recursively  \n",
        "cp file.txt copied.txt  \n",
        "cp file.txt /home/dir1  \n",
        "cp -r test test1 - - - - - - - - copy directory  \n",
        "mv file.txt moved.txt  \n",
        "mv file.txt /home/dir1  \n",
        "mv test test1  \n",
        "\n",
        "\n",
        "\n"
      ],
      "metadata": {
        "id": "WmVys20sShYU"
      }
    },
    {
      "cell_type": "markdown",
      "source": [
        "###Files\n",
        "head README.md  \n",
        "head -5 README.md  \n",
        "tail README.md  \n",
        "cat file.txt  \n",
        "echo sometext >file.txt  \n",
        "cat f1.txt f2.txt f3.txt >all.txt  \n",
        "cat > file1.txt  \n",
        "    *I would be a cat.*  \n",
        "    *Seriously.*  \n",
        "Then press d to finish typing.  \n",
        "cat f1.txt > f2.txt - - - - - - - - copy file  \n",
        "more file.txt  \n",
        "less file.txt  \n",
        "\n",
        "\n"
      ],
      "metadata": {
        "id": "dYAONbDUUfyF"
      }
    },
    {
      "cell_type": "markdown",
      "source": [
        "###Linux file structure\n"
      ],
      "metadata": {
        "id": "yGkBllf8XVlq"
      }
    },
    {
      "cell_type": "markdown",
      "source": [
        "###System Information\n",
        "system monitor  \n",
        "uptime - - - - - - - - how long the system has been running  \n",
        "free - - - - - - - memory  \n",
        "ps -A - - - - - - - - -  report a snapshot of the current processes  \n",
        "df - - - - - - - report file system disk space usage  \n",
        "df -h  \n",
        "sudo fdisk -l - - - - - - - - info about partitions  \n",
        "lsblk  \n",
        "top - - - - - - - processes  \n",
        "htop (sudo apt install htop)  \n",
        "\n",
        "\n",
        "\n",
        "\n"
      ],
      "metadata": {
        "id": "ogSJV818qXUw"
      }
    },
    {
      "cell_type": "markdown",
      "source": [
        "###Network\n",
        "sudo apt install net-tools  \n",
        "ifconfig  \n",
        "ip - - - - - - - - network, routing, interfaces and tunnels  \n",
        "ip a  \n"
      ],
      "metadata": {
        "id": "kF8B0KGgokn2"
      }
    },
    {
      "cell_type": "markdown",
      "source": [
        "###Package manager\n",
        "sudo apt search zip  \n",
        "sudo apt update - - - - - - shows what you CAN upgrade  \n",
        "sudo apt upgrade - - - - - - - - upgrades  \n",
        "sudo apt remove zip  \n"
      ],
      "metadata": {
        "id": "t98eOQsYpSI3"
      }
    },
    {
      "cell_type": "markdown",
      "source": [
        "$$50 \\text{ Linux commands}$$ \n",
        "###redirecting standard output\n",
        "date > today.txt  \n",
        "ls -l > content.txt  \n",
        "______\n",
        "wc file.txt - - - - - - - lines | words | bytes  \n",
        "_____\n",
        "###piping\n",
        "cat file.txt | wc -l  \n",
        "_____\n",
        "sort file.txt  \n",
        "sort -n nums.txt - - - - numeric sort  \n",
        "uniq file.txt - - - - - unique  \n",
        "sort -u file.txt - - - - - unique  \n",
        "uniq -c - - - - - how many times appears  \n",
        "sort -r - - - - - reverse  \n",
        "_____\n",
        "echo \\*.???  \n",
        "ls app.??  \n",
        "ls \\*.?  \n",
        "echo Day{1..99}  \n",
        "echo F\\*\n",
        "_____\n",
        "diff f1.txt f2.txt  \n",
        "diff -y - - - - - files side by side  \n",
        "find . - - - - - all files in this dir  \n",
        "find . -name '\\*7\\*'  \n",
        "find . -name '\\*.py'  \n",
        "find . -type d -name '\\*E\\*' - - - - - finds only dirs  \n",
        "find . -name '\\*7\\*' -or -name '\\*J'  \n",
        "find . -type f -size +1000k  \n",
        "find -type f -mtime +3 - - - - - - modified more than 3 days ago  \n",
        "find -type f -mtime -1 - - - - - - modified last 24 hours  \n",
        "find -type f -mtime +3 -size +100k -exec ls -l {} \\;\n",
        "grep green file.txt  \n",
        "grep -n green file.txt  - - - - - - number of line  \n",
        "\n",
        "\n",
        "\n",
        "\n",
        "\n",
        "\n",
        "\n",
        "\n"
      ],
      "metadata": {
        "id": "bte1esJ8q2Qo"
      }
    }
  ]
}