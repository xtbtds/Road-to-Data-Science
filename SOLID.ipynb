{
  "nbformat": 4,
  "nbformat_minor": 0,
  "metadata": {
    "colab": {
      "name": "SOLID",
      "provenance": [],
      "collapsed_sections": [],
      "authorship_tag": "ABX9TyPKqeqGa6gXwi9RIzU45R2G",
      "include_colab_link": true
    },
    "kernelspec": {
      "name": "python3",
      "display_name": "Python 3"
    },
    "language_info": {
      "name": "python"
    }
  },
  "cells": [
    {
      "cell_type": "markdown",
      "metadata": {
        "id": "view-in-github",
        "colab_type": "text"
      },
      "source": [
        "<a href=\"https://colab.research.google.com/github/xtbtds/Road-to-Data-Science/blob/main/SOLID.ipynb\" target=\"_parent\"><img src=\"https://colab.research.google.com/assets/colab-badge.svg\" alt=\"Open In Colab\"/></a>"
      ]
    },
    {
      "cell_type": "markdown",
      "source": [
        "- **Single responsibility (SRP)** \\\\\n",
        "  - each class for single purpouse; \\\\\n",
        "  - NO \"prepare\" and \"write\" functions for data in one class; \\\\\n",
        "\n",
        "- **Open-Closed (OCP)** \\\\\n",
        "  - don't edit class - extend it making another class; \\\\\n",
        "\n",
        "- **Liskov substitution (LSP)** \\\\\n",
        "  - parent's and child's method must have the same number of arguments; \\\\\n",
        "  - you should be able to easily change child class to parent class; \\\\\n",
        "  - there must be a general interface for setting attributes for each child; \\\\\n",
        "  - if an attribute isn't used in child's class method, we write *_variable_name*; \\\\\n",
        "\n",
        "- **Interface Segregation (ISP)** \\\\\n",
        "  - if we inherit parent class, we inherit all its methods. So they will be available in child class, even if we don't want it; \\\\\n",
        "  - to avoid it, make individual classes for methods, and inherit only the classes which methods we want to be in our child class; \\\\\n",
        "\n",
        "- **Dependency inversion (DIP)** \\\\\n",
        "  - high level module must not depend on low level modules; \\\\\n",
        "  - class must not depend on other classes' methods; \\\\\n",
        "  - dependency injection - we transfer class in method's argument when we call this method; \\\\\n",
        "\n",
        "\n"
      ],
      "metadata": {
        "id": "HAZ4LwQGWO_f"
      }
    }
  ]
}