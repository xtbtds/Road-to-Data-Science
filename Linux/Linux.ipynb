{
  "nbformat": 4,
  "nbformat_minor": 0,
  "metadata": {
    "colab": {
      "name": "Linux ",
      "provenance": [],
      "collapsed_sections": [],
      "authorship_tag": "ABX9TyNff5iv1i7wxLRIgMO6NM8q",
      "include_colab_link": true
    },
    "kernelspec": {
      "name": "python3",
      "display_name": "Python 3"
    },
    "language_info": {
      "name": "python"
    }
  },
  "cells": [
    {
      "cell_type": "markdown",
      "metadata": {
        "id": "view-in-github",
        "colab_type": "text"
      },
      "source": [
        "<a href=\"https://colab.research.google.com/github/xtbtds/Road-to-Data-Science/blob/main/Linux/Linux.ipynb\" target=\"_parent\"><img src=\"https://colab.research.google.com/assets/colab-badge.svg\" alt=\"Open In Colab\"/></a>"
      ]
    },
    {
      "cell_type": "markdown",
      "source": [
        "#Linux Crash Course\n",
        "mkdir -p Linux/Dir1/Dir2  \n",
        "file ReadMe.md, file image.png  \n",
        "rm -i file1.txt file2.txt  \n",
        "rm -rf Test  - - - - - - - -  remove recursively  \n",
        "cp file.txt copied.txt  \n",
        "cp file.txt /home/dir1  \n",
        "cp -r test test1 - - - - - - - - copy directory  \n",
        "mv file.txt moved.txt  \n",
        "mv file.txt /home/dir1  \n",
        "mv test test1  \n",
        "\n",
        "\n",
        "\n"
      ],
      "metadata": {
        "id": "WmVys20sShYU"
      }
    },
    {
      "cell_type": "markdown",
      "source": [
        "###Files\n",
        "head README.md  \n",
        "head -5 README.md  \n",
        "tail README.md  \n",
        "cat file.txt  \n",
        "echo sometext >file.txt  \n",
        "cat f1.txt f2.txt f3.txt >all.txt  \n",
        "cat > file1.txt  \n",
        "    *I would be a cat.*  \n",
        "    *Seriously.*  \n",
        "Then press d to finish typing.  \n",
        "cat f1.txt > f2.txt - - - - - - - - copy file  \n",
        "more file.txt  \n",
        "less file.txt  \n",
        "\n",
        "\n"
      ],
      "metadata": {
        "id": "dYAONbDUUfyF"
      }
    },
    {
      "cell_type": "markdown",
      "source": [
        "###Linux file structure\n",
        "**bin** - basic functions (ls, cat, chmod)  \n",
        "**sbin** - system binaries  \n",
        "**boot** - everything to boot  \n",
        "**dev** - devices (disk - dev/sda, partition - dev/sda1)  \n",
        "**etc** - configurations  \n",
        "**lib** - libraries  \n",
        "**mnt** (mount)  \n",
        "**media** - floppy disk, usb, external harddrive  \n",
        "**opt** - optional  \n",
        "**proc** - system processes, one dir=one process  \n",
        "**root** - root users home folder  \n",
        "**run**  \n",
        "**snap** \n",
        "**srv** - server data (empty until you run a server)  \n",
        "**sys** - system folder, is created every time the system boots up  \n",
        "**temp** - temporary dir, files using by applications during the session  \n",
        "**usr** - apps stored here are not essential for system; from source code apps are installed in local folder; larger programms in share; kernel and header files in src;  \n",
        "**var** - variable dir (contains files and dirs that are expected to grow inside); crash - about processes that have crashed; log - log files  \n",
        "**home** - each user's folders  \n",
        "\n",
        "\n"
      ],
      "metadata": {
        "id": "yGkBllf8XVlq"
      }
    },
    {
      "cell_type": "markdown",
      "source": [
        "###System Information\n",
        "system monitor  \n",
        "uptime - - - - - - - - how long the system has been running  \n",
        "free - - - - - - - memory  \n",
        "ps -A - - - - - - - - -  report a snapshot of the current processes  \n",
        "df - - - - - - - report file system disk space usage  \n",
        "df -h  \n",
        "sudo fdisk -l - - - - - - - - info about partitions  \n",
        "lsblk  \n",
        "top - - - - - - - processes  \n",
        "htop (sudo apt install htop)  \n",
        "\n",
        "\n",
        "\n",
        "\n"
      ],
      "metadata": {
        "id": "ogSJV818qXUw"
      }
    },
    {
      "cell_type": "markdown",
      "source": [
        "###Network\n",
        "sudo apt install net-tools  \n",
        "ifconfig  \n",
        "ip - - - - - - - - network, routing, interfaces and tunnels  \n",
        "ip a  \n",
        "\n",
        "####Windows networking\n",
        "ipconfig  \n",
        "nslookup www.google.com - - - - - - shows IP address from dns server  \n",
        "nslookup 123.432.234.12 - - - - - - shows domain name  \n",
        "ping IP (host name)- - - - - - - check reachability of a host  \n",
        "tracert - - - - - - display all possible paths and measure transit delays of packets  \n",
        "netstat - - - - - - all active connections\n"
      ],
      "metadata": {
        "id": "kF8B0KGgokn2"
      }
    },
    {
      "cell_type": "markdown",
      "source": [
        "###Package manager\n",
        "sudo apt search zip  \n",
        "sudo apt update - - - - - - shows what you CAN upgrade  \n",
        "sudo apt upgrade - - - - - - - - upgrades  \n",
        "sudo apt remove zip  \n"
      ],
      "metadata": {
        "id": "t98eOQsYpSI3"
      }
    },
    {
      "cell_type": "markdown",
      "source": [
        "$$50 \\text{ Linux commands}$$ \n",
        "###redirecting standard output\n",
        "date > today.txt  \n",
        "ls -l > content.txt  \n",
        "______\n",
        "wc file.txt - - - - - - - lines | words | bytes  \n",
        "_____\n",
        "###piping\n",
        "cat file.txt | wc -l  \n",
        "_____\n",
        "sort file.txt  \n",
        "sort -n nums.txt - - - - numeric sort  \n",
        "uniq file.txt - - - - - unique  \n",
        "sort -u file.txt - - - - - unique  \n",
        "uniq -c - - - - - how many times appears  \n",
        "sort -r - - - - - reverse  \n",
        "_____\n",
        "echo \\*.???  \n",
        "ls app.??  \n",
        "ls \\*.?  \n",
        "echo Day{1..99}  \n",
        "echo F\\*\n",
        "_____\n",
        "diff f1.txt f2.txt  \n",
        "diff -y - - - - - files side by side  \n",
        "find . - - - - - all files in this dir  \n",
        "find . -name '\\*7\\*'  \n",
        "find . -name '\\*.py'  \n",
        "find . -type d -name '\\*E\\*' - - - - - finds only dirs  \n",
        "find . -name '\\*7\\*' -or -name '\\*J'  \n",
        "find . -type f -size +1000k  \n",
        "find -type f -mtime +3 - - - - - - modified more than 3 days ago  \n",
        "find -type f -mtime -1 - - - - - - modified last 24 hours  \n",
        "find -type f -mtime +3 -size +100k -exec ls -l {} \\;\n",
        "grep green file.txt  \n",
        "grep -n green file.txt  - - - - - - number of line  \n",
        "history  \n",
        "history | grep cookie  \n",
        "___________\n",
        "kill PID    \n",
        "ps a - - - - - to know PID  \n",
        "killall name  \n",
        "_________\n",
        "gzip file  \n",
        "gzip -c file > file.gz  \n",
        "gunzip file  \n",
        "tar -cf archive.tar file1 file2  \n",
        "tar -xf archive.tar  \n",
        "tar -xf archive.tar -C directory  \n",
        "-z - - - - - compress  \n",
        "\n",
        "\n",
        "\n",
        "\n",
        "\n",
        "\n",
        "\n",
        "\n",
        "\n"
      ],
      "metadata": {
        "id": "bte1esJ8q2Qo"
      }
    },
    {
      "cell_type": "markdown",
      "source": [
        "#Interview questions\n",
        "1. Which kernel version the system is currently running?  \n",
        "  uname -a  \n",
        "  uname -v - - - - - kernel version  \n",
        "  uname -r - - - - - kernel release   \n",
        "2. System's current IP address?  \n",
        "  ipconfig \n",
        "3. Check for free disk space?  \n",
        "  df -ah  \n",
        "4. How do you manage services  on a system?  \n",
        "  service name status  \n",
        "  service name start  \n",
        "  service name stop  \n",
        "5. How to check the size of a directory's contents on disk?  \n",
        "  du -sh code/  \n",
        "6. Open ports on Linux machine?  \n",
        "  netstat -tulpn  \n",
        "  sudo netstat -tulpn (with PID)  \n",
        "7. Check CPU usage for a process?  \n",
        "  ps aux | grep process_name  \n",
        "  top  \n",
        "  htop  \n",
        "8. Dealing with mounts  \n",
        "  ls /mnt  \n",
        "  mount /dev/sda2 /mnt  \n",
        "  mount  - - - - shows existing mounts  \n",
        "9. \n"
      ],
      "metadata": {
        "id": "QG5WfGUIoRgI"
      }
    }
  ]
}